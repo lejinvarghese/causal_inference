{
 "cells": [
  {
   "cell_type": "markdown",
   "metadata": {},
   "source": [
    "# **Instrumental Variables**\n",
    "\n",
    "**Notes:**\n",
    "\n",
    "- Better suited for **unmeasured confounders** `U` that affect both the treament `A` and the outcome `Y `. Measured confounders `X`.\n",
    "    - If there's unmeasured confounding, we cannot marginalize over all confounders (via matching, iptw, etc)\n",
    "    - Focuses on the **Local Average Treatment Effect** `LATE` aka **Complier Average Causal Effect** `CACE`\n",
    "    - This is different from the **Average Causal Effect for the Population** `ATE`, and the **Average Causal Effect for the Treated** `ATT` aka **Intention-to-Treat Effect** `ITT`.\n",
    "    - [Reference](https://www.jpsmjournal.com/article/S0885-3924(16)30111-7/pdf#:~:text=ATE%20%3D%20average%20treatment%20effect%3B%20ATT,%3D%20person%2Dcentered%20treatment%20effect.)\n",
    "- We could use an instrumental variable `Z`, which affects the treatment, but not directly affect the outcome (exclusion restriction). `Z` is also considered **encouragement**.\n",
    "    - Assumptions have to be carefully validated, especially the **exclusion restriction**.\n",
    "- An **intention-to-treat** analysis would focus on the causal effect of encouragement.\n",
    "\n",
    "\n",
    "**Randomized trials with non-compliance**\n",
    "\n",
    "- `Z`: randomization to treatment\n",
    "- `A`: actual treatment received\n",
    "- `Y`: outcome\n",
    "- Average Causal Effect of Treatment Assignment on Treatment Received\n",
    "- Average Causal Effect of Treatment Assignment on Outcome: **Intention-to-Treat Effect**\n",
    "\n",
    "**Compliance Classes**\n",
    "\n",
    "|  A<sup>0</sup> |  A<sup>1</sup> |  Segment |\n",
    "|---|---|---|\n",
    "| 0  | 0 | Never-takers |\n",
    "| 0  | 1 | Compliers  |\n",
    "| 1  | 0 |  Defiers |\n",
    "| 1  | 1 | Always-takers  |\n",
    "\n",
    "- May have to assume who are never-takers and always-takers, can't learn anything about causal effect on those sub-populations.\n",
    "- aka **Principal Strata**, they're latent, and not directly observable.\n",
    "- **Monotonicity assumption**: no defiers, probability of treatment should increase with more encouragement.\n",
    "- In case of perfect compliance `CACE = LATE = ATT = ITT`, otherwise `LATE = ATT/P(compliers)` or `CACE = ITT/P(compliers)`\n",
    "- Strength of an IV can be measured by the proportion of compliers. If strength is low, it can lead to large variance estimates.\n",
    "\n",
    "\n",
    "**Two Stage Least Squares**\n",
    "\n",
    "- `Stage 1`: Regress `A` on `Z` and covariates `X`\n",
    "- `Stage 2`: Regress `Y` on `A^` and covariates `X`\n",
    "    - Coefficient of `A^` is the causal effect."
   ]
  },
  {
   "cell_type": "code",
   "execution_count": 17,
   "metadata": {},
   "outputs": [
    {
     "name": "stderr",
     "output_type": "stream",
     "text": [
      "Installing package into ‘/home/starscream/R/x86_64-pc-linux-gnu-library/4.1’\n",
      "(as ‘lib’ is unspecified)\n",
      "\n"
     ]
    }
   ],
   "source": [
    "#install needed libraries\n",
    "install.packages(\"ivpack\")"
   ]
  },
  {
   "cell_type": "markdown",
   "metadata": {},
   "source": [
    "## **Load Libraries and Data**"
   ]
  },
  {
   "cell_type": "code",
   "execution_count": 18,
   "metadata": {},
   "outputs": [],
   "source": [
    "library(ivpack)"
   ]
  },
  {
   "cell_type": "code",
   "execution_count": 16,
   "metadata": {},
   "outputs": [
    {
     "data": {
      "text/html": [
       "<table class=\"dataframe\">\n",
       "<caption>A data.frame: 6 × 19</caption>\n",
       "<thead>\n",
       "\t<tr><th></th><th scope=col>X</th><th scope=col>work</th><th scope=col>hoursw</th><th scope=col>child6</th><th scope=col>child618</th><th scope=col>agew</th><th scope=col>educw</th><th scope=col>hearnw</th><th scope=col>wagew</th><th scope=col>hoursh</th><th scope=col>ageh</th><th scope=col>educh</th><th scope=col>wageh</th><th scope=col>income</th><th scope=col>educwm</th><th scope=col>educwf</th><th scope=col>unemprate</th><th scope=col>city</th><th scope=col>experience</th></tr>\n",
       "\t<tr><th></th><th scope=col>&lt;int&gt;</th><th scope=col>&lt;chr&gt;</th><th scope=col>&lt;int&gt;</th><th scope=col>&lt;int&gt;</th><th scope=col>&lt;int&gt;</th><th scope=col>&lt;int&gt;</th><th scope=col>&lt;int&gt;</th><th scope=col>&lt;dbl&gt;</th><th scope=col>&lt;dbl&gt;</th><th scope=col>&lt;int&gt;</th><th scope=col>&lt;int&gt;</th><th scope=col>&lt;int&gt;</th><th scope=col>&lt;dbl&gt;</th><th scope=col>&lt;int&gt;</th><th scope=col>&lt;int&gt;</th><th scope=col>&lt;int&gt;</th><th scope=col>&lt;dbl&gt;</th><th scope=col>&lt;chr&gt;</th><th scope=col>&lt;int&gt;</th></tr>\n",
       "</thead>\n",
       "<tbody>\n",
       "\t<tr><th scope=row>1</th><td>1</td><td>yes</td><td>1610</td><td>1</td><td>0</td><td>32</td><td>12</td><td>3.3540</td><td>2.65</td><td>2708</td><td>34</td><td>12</td><td> 4.0288</td><td>16310</td><td>12</td><td> 7</td><td> 5.0</td><td>no </td><td>14</td></tr>\n",
       "\t<tr><th scope=row>2</th><td>2</td><td>yes</td><td>1656</td><td>0</td><td>2</td><td>30</td><td>12</td><td>1.3889</td><td>2.65</td><td>2310</td><td>30</td><td> 9</td><td> 8.4416</td><td>21800</td><td> 7</td><td> 7</td><td>11.0</td><td>yes</td><td> 5</td></tr>\n",
       "\t<tr><th scope=row>3</th><td>3</td><td>yes</td><td>1980</td><td>1</td><td>3</td><td>35</td><td>12</td><td>4.5455</td><td>4.04</td><td>3072</td><td>40</td><td>12</td><td> 3.5807</td><td>21040</td><td>12</td><td> 7</td><td> 5.0</td><td>no </td><td>15</td></tr>\n",
       "\t<tr><th scope=row>4</th><td>4</td><td>yes</td><td> 456</td><td>0</td><td>3</td><td>34</td><td>12</td><td>1.0965</td><td>3.25</td><td>1920</td><td>53</td><td>10</td><td> 3.5417</td><td> 7300</td><td> 7</td><td> 7</td><td> 5.0</td><td>no </td><td> 6</td></tr>\n",
       "\t<tr><th scope=row>5</th><td>5</td><td>yes</td><td>1568</td><td>1</td><td>2</td><td>31</td><td>14</td><td>4.5918</td><td>3.60</td><td>2000</td><td>32</td><td>12</td><td>10.0000</td><td>27300</td><td>12</td><td>14</td><td> 9.5</td><td>yes</td><td> 7</td></tr>\n",
       "\t<tr><th scope=row>6</th><td>6</td><td>yes</td><td>2032</td><td>0</td><td>0</td><td>54</td><td>12</td><td>4.7421</td><td>4.70</td><td>1040</td><td>57</td><td>11</td><td> 6.7106</td><td>19495</td><td>14</td><td> 7</td><td> 7.5</td><td>yes</td><td>33</td></tr>\n",
       "</tbody>\n",
       "</table>\n"
      ],
      "text/latex": [
       "A data.frame: 6 × 19\n",
       "\\begin{tabular}{r|lllllllllllllllllll}\n",
       "  & X & work & hoursw & child6 & child618 & agew & educw & hearnw & wagew & hoursh & ageh & educh & wageh & income & educwm & educwf & unemprate & city & experience\\\\\n",
       "  & <int> & <chr> & <int> & <int> & <int> & <int> & <int> & <dbl> & <dbl> & <int> & <int> & <int> & <dbl> & <int> & <int> & <int> & <dbl> & <chr> & <int>\\\\\n",
       "\\hline\n",
       "\t1 & 1 & yes & 1610 & 1 & 0 & 32 & 12 & 3.3540 & 2.65 & 2708 & 34 & 12 &  4.0288 & 16310 & 12 &  7 &  5.0 & no  & 14\\\\\n",
       "\t2 & 2 & yes & 1656 & 0 & 2 & 30 & 12 & 1.3889 & 2.65 & 2310 & 30 &  9 &  8.4416 & 21800 &  7 &  7 & 11.0 & yes &  5\\\\\n",
       "\t3 & 3 & yes & 1980 & 1 & 3 & 35 & 12 & 4.5455 & 4.04 & 3072 & 40 & 12 &  3.5807 & 21040 & 12 &  7 &  5.0 & no  & 15\\\\\n",
       "\t4 & 4 & yes &  456 & 0 & 3 & 34 & 12 & 1.0965 & 3.25 & 1920 & 53 & 10 &  3.5417 &  7300 &  7 &  7 &  5.0 & no  &  6\\\\\n",
       "\t5 & 5 & yes & 1568 & 1 & 2 & 31 & 14 & 4.5918 & 3.60 & 2000 & 32 & 12 & 10.0000 & 27300 & 12 & 14 &  9.5 & yes &  7\\\\\n",
       "\t6 & 6 & yes & 2032 & 0 & 0 & 54 & 12 & 4.7421 & 4.70 & 1040 & 57 & 11 &  6.7106 & 19495 & 14 &  7 &  7.5 & yes & 33\\\\\n",
       "\\end{tabular}\n"
      ],
      "text/markdown": [
       "\n",
       "A data.frame: 6 × 19\n",
       "\n",
       "| <!--/--> | X &lt;int&gt; | work &lt;chr&gt; | hoursw &lt;int&gt; | child6 &lt;int&gt; | child618 &lt;int&gt; | agew &lt;int&gt; | educw &lt;int&gt; | hearnw &lt;dbl&gt; | wagew &lt;dbl&gt; | hoursh &lt;int&gt; | ageh &lt;int&gt; | educh &lt;int&gt; | wageh &lt;dbl&gt; | income &lt;int&gt; | educwm &lt;int&gt; | educwf &lt;int&gt; | unemprate &lt;dbl&gt; | city &lt;chr&gt; | experience &lt;int&gt; |\n",
       "|---|---|---|---|---|---|---|---|---|---|---|---|---|---|---|---|---|---|---|---|\n",
       "| 1 | 1 | yes | 1610 | 1 | 0 | 32 | 12 | 3.3540 | 2.65 | 2708 | 34 | 12 |  4.0288 | 16310 | 12 |  7 |  5.0 | no  | 14 |\n",
       "| 2 | 2 | yes | 1656 | 0 | 2 | 30 | 12 | 1.3889 | 2.65 | 2310 | 30 |  9 |  8.4416 | 21800 |  7 |  7 | 11.0 | yes |  5 |\n",
       "| 3 | 3 | yes | 1980 | 1 | 3 | 35 | 12 | 4.5455 | 4.04 | 3072 | 40 | 12 |  3.5807 | 21040 | 12 |  7 |  5.0 | no  | 15 |\n",
       "| 4 | 4 | yes |  456 | 0 | 3 | 34 | 12 | 1.0965 | 3.25 | 1920 | 53 | 10 |  3.5417 |  7300 |  7 |  7 |  5.0 | no  |  6 |\n",
       "| 5 | 5 | yes | 1568 | 1 | 2 | 31 | 14 | 4.5918 | 3.60 | 2000 | 32 | 12 | 10.0000 | 27300 | 12 | 14 |  9.5 | yes |  7 |\n",
       "| 6 | 6 | yes | 2032 | 0 | 0 | 54 | 12 | 4.7421 | 4.70 | 1040 | 57 | 11 |  6.7106 | 19495 | 14 |  7 |  7.5 | yes | 33 |\n",
       "\n"
      ],
      "text/plain": [
       "  X work hoursw child6 child618 agew educw hearnw wagew hoursh ageh educh\n",
       "1 1 yes  1610   1      0        32   12    3.3540 2.65  2708   34   12   \n",
       "2 2 yes  1656   0      2        30   12    1.3889 2.65  2310   30    9   \n",
       "3 3 yes  1980   1      3        35   12    4.5455 4.04  3072   40   12   \n",
       "4 4 yes   456   0      3        34   12    1.0965 3.25  1920   53   10   \n",
       "5 5 yes  1568   1      2        31   14    4.5918 3.60  2000   32   12   \n",
       "6 6 yes  2032   0      0        54   12    4.7421 4.70  1040   57   11   \n",
       "  wageh   income educwm educwf unemprate city experience\n",
       "1  4.0288 16310  12      7      5.0      no   14        \n",
       "2  8.4416 21800   7      7     11.0      yes   5        \n",
       "3  3.5807 21040  12      7      5.0      no   15        \n",
       "4  3.5417  7300   7      7      5.0      no    6        \n",
       "5 10.0000 27300  12     14      9.5      yes   7        \n",
       "6  6.7106 19495  14      7      7.5      yes  33        "
      ]
     },
     "metadata": {},
     "output_type": "display_data"
    }
   ],
   "source": [
    "data <- read.csv( \"assets/Mroz.csv\")\n",
    "head(data)"
   ]
  },
  {
   "cell_type": "code",
   "execution_count": 21,
   "metadata": {},
   "outputs": [
    {
     "data": {
      "text/html": [
       "12.4913678618858"
      ],
      "text/latex": [
       "12.4913678618858"
      ],
      "text/markdown": [
       "12.4913678618858"
      ],
      "text/plain": [
       "[1] 12.49137"
      ]
     },
     "metadata": {},
     "output_type": "display_data"
    },
    {
     "data": {
      "image/png": "[encoded data removed]",
      "text/plain": [
       "Plot with title “Histogram of data$educw”"
      ]
     },
     "metadata": {
      "image/png": {
       "height": 420,
       "width": 420
      }
     },
     "output_type": "display_data"
    }
   ],
   "source": [
    "# IV is educh (husband's education)\n",
    "# outcome is hearnw (wife's average hourly earnings)\n",
    "#'treatment' is educw (wife's number of years of education)\n",
    "mean(data$educh)\n",
    "par(mfrow=c(1,2))\n",
    "hist(data$hearnw)\n",
    "hist(data$educw)"
   ]
  },
  {
   "cell_type": "code",
   "execution_count": 25,
   "metadata": {},
   "outputs": [
    {
     "data": {
      "text/html": [
       "13.7796610169492"
      ],
      "text/latex": [
       "13.7796610169492"
      ],
      "text/markdown": [
       "13.7796610169492"
      ],
      "text/plain": [
       "[1] 13.77966"
      ]
     },
     "metadata": {},
     "output_type": "display_data"
    },
    {
     "data": {
      "text/html": [
       "11.325327510917"
      ],
      "text/latex": [
       "11.325327510917"
      ],
      "text/markdown": [
       "11.325327510917"
      ],
      "text/plain": [
       "[1] 11.32533"
      ]
     },
     "metadata": {},
     "output_type": "display_data"
    }
   ],
   "source": [
    "#is the IV associated with the treatment? strenght of IV\n",
    "mean(data$educw[data$educh>=mean(data$educh)])\n",
    "mean(data$educw[data$educh<mean(data$educh)])"
   ]
  },
  {
   "cell_type": "code",
   "execution_count": 45,
   "metadata": {},
   "outputs": [
    {
     "data": {
      "text/html": [
       "0.490141366294131"
      ],
      "text/latex": [
       "0.490141366294131"
      ],
      "text/markdown": [
       "0.490141366294131"
      ],
      "text/plain": [
       "[1] 0.4901414"
      ]
     },
     "metadata": {},
     "output_type": "display_data"
    }
   ],
   "source": [
    "#make education binary\n",
    "b_educw <- data$educw>=mean(data$educw)\n",
    "b_educh <- data$educh>=mean(data$educh)\n",
    "\n",
    "#estimate proportion of 'compliers'\n",
    "p_compliers <- mean(b_educw[b_educh == 1])-\n",
    "  mean(b_educw[b_educh == 0])\n",
    "p_compliers"
   ]
  },
  {
   "cell_type": "markdown",
   "metadata": {},
   "source": [
    "##  **Intention To Treat Effect [ITT]**"
   ]
  },
  {
   "cell_type": "code",
   "execution_count": 46,
   "metadata": {},
   "outputs": [
    {
     "data": {
      "text/html": [
       "0.701713544519281"
      ],
      "text/latex": [
       "0.701713544519281"
      ],
      "text/markdown": [
       "0.701713544519281"
      ],
      "text/plain": [
       "[1] 0.7017135"
      ]
     },
     "metadata": {},
     "output_type": "display_data"
    }
   ],
   "source": [
    "itt <- mean(data$hearnw[b_educh == 1])-\n",
    "  mean(data$hearnw[b_educh == 0])\n",
    "itt"
   ]
  },
  {
   "cell_type": "markdown",
   "metadata": {},
   "source": [
    "## **Complier Average Causal Effect [CACE]**\n",
    "\n",
    "`CACE = ITT/P(compliers)`"
   ]
  },
  {
   "cell_type": "code",
   "execution_count": 47,
   "metadata": {},
   "outputs": [
    {
     "data": {
      "text/html": [
       "1.43165542183229"
      ],
      "text/latex": [
       "1.43165542183229"
      ],
      "text/markdown": [
       "1.43165542183229"
      ],
      "text/plain": [
       "[1] 1.431655"
      ]
     },
     "metadata": {},
     "output_type": "display_data"
    }
   ],
   "source": [
    "itt/p_compliers"
   ]
  },
  {
   "cell_type": "markdown",
   "metadata": {},
   "source": [
    "## **Two Stage Least Squares**"
   ]
  },
  {
   "cell_type": "markdown",
   "metadata": {},
   "source": [
    "### **Stage 1: Regress A on Z**"
   ]
  },
  {
   "cell_type": "code",
   "execution_count": 48,
   "metadata": {},
   "outputs": [
    {
     "data": {
      "text/plain": [
       "pred_s1\n",
       "0.0895196506550205  0.579661016949152 \n",
       "               458                295 "
      ]
     },
     "metadata": {},
     "output_type": "display_data"
    }
   ],
   "source": [
    "model_s1 <- lm(b_educw~b_educh)\n",
    "## get predicted value of A given Z for each subject\n",
    "pred_s1 <- predict(model_s1, type = \"response\")\n",
    "table(pred_s1)"
   ]
  },
  {
   "cell_type": "markdown",
   "metadata": {},
   "source": [
    "### **Stage 2: Regress Y on predicted value of A**"
   ]
  },
  {
   "cell_type": "code",
   "execution_count": 49,
   "metadata": {},
   "outputs": [
    {
     "data": {
      "text/plain": [
       "\n",
       "Call:\n",
       "lm(formula = data$hearnw ~ pred_s1)\n",
       "\n",
       "Coefficients:\n",
       "(Intercept)      pred_s1  \n",
       "      1.971        1.432  \n"
      ]
     },
     "metadata": {},
     "output_type": "display_data"
    }
   ],
   "source": [
    "model_s2 <- lm(data$hearnw~pred_s1)\n",
    "model_s2"
   ]
  },
  {
   "cell_type": "code",
   "execution_count": 51,
   "metadata": {},
   "outputs": [
    {
     "name": "stdout",
     "output_type": "stream",
     "text": [
      "[1] \"Robust Standard Errors\"\n"
     ]
    },
    {
     "data": {
      "text/plain": [
       "\n",
       "t test of coefficients:\n",
       "\n",
       "            Estimate Std. Error t value  Pr(>|t|)    \n",
       "(Intercept)  1.97150    0.16980 11.6104 < 2.2e-16 ***\n",
       "b_educwTRUE  1.43166    0.49061  2.9181  0.003627 ** \n",
       "---\n",
       "Signif. codes:  0 ‘***’ 0.001 ‘**’ 0.01 ‘*’ 0.05 ‘.’ 0.1 ‘ ’ 1\n"
      ]
     },
     "metadata": {},
     "output_type": "display_data"
    }
   ],
   "source": [
    "#2SLS using ivpack\n",
    "ivmodel = ivreg(hearnw ~ b_educw, ~ b_educh, x=TRUE, data=data)\n",
    "robust.se(ivmodel)"
   ]
  },
  {
   "cell_type": "code",
   "execution_count": 56,
   "metadata": {},
   "outputs": [
    {
     "name": "stdout",
     "output_type": "stream",
     "text": [
      "[1] \"Robust Standard Errors\"\n"
     ]
    },
    {
     "data": {
      "text/plain": [
       "\n",
       "t test of coefficients:\n",
       "\n",
       "              Estimate Std. Error t value  Pr(>|t|)    \n",
       "(Intercept)  4.4882471  0.9102768  4.9306 1.011e-06 ***\n",
       "b_educwTRUE  1.5062626  0.4639772  3.2464  0.001221 ** \n",
       "ageh        -0.0017740  0.0273815 -0.0648  0.948360    \n",
       "agew        -0.0760981  0.0302200 -2.5181  0.012006 *  \n",
       "child6      -1.0927623  0.2223556 -4.9145 1.095e-06 ***\n",
       "child618    -0.0379585  0.0938613 -0.4044  0.686026    \n",
       "experience   0.1083748  0.0137714  7.8695 1.254e-14 ***\n",
       "unemprate   -0.0071477  0.0341777 -0.2091  0.834401    \n",
       "---\n",
       "Signif. codes:  0 ‘***’ 0.001 ‘**’ 0.01 ‘*’ 0.05 ‘.’ 0.1 ‘ ’ 1\n"
      ]
     },
     "metadata": {},
     "output_type": "display_data"
    }
   ],
   "source": [
    "#2SLS using ivpack\n",
    "ivmodel = ivreg(hearnw ~ b_educw + ageh + agew + child6 + child618 + experience + unemprate, ~ b_educh + ageh + agew + child6 + child618 + experience + unemprate, x=TRUE, data=data)\n",
    "robust.se(ivmodel)"
   ]
  }
 ],
 "metadata": {
  "kernelspec": {
   "display_name": "R",
   "language": "R",
   "name": "ir"
  },
  "language_info": {
   "codemirror_mode": "r",
   "file_extension": ".r",
   "mimetype": "text/x-r-source",
   "name": "R",
   "pygments_lexer": "r",
   "version": "4.1.3"
  }
 },
 "nbformat": 4,
 "nbformat_minor": 4
}
