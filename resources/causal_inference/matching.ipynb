{
 "cells": [
  {
   "cell_type": "markdown",
   "metadata": {},
   "source": [
    "# **Matching**"
   ]
  },
  {
   "cell_type": "markdown",
   "metadata": {},
   "source": [
    "**Notes:**\n",
    "\n",
    "- **Causal Effect of Treament on the Treated** is what we're trying to measure.\n",
    "- We may not be able to exactly match on the full set of covariates, neither are they in randomized controlled trials.\n",
    "    - The distribution of covariates is **balanced** between groups (stochastic balance).\n",
    "\n",
    "\n",
    "- **Fine Balance**\n",
    "    - Same challenge when it comes to matching, when it's difficult to find exact matches, we should be willing to accept some non-ideal matches if treated and control groups have **same distribution of covariates.**\n",
    "    - Number of matches:\n",
    "        - One to one (pair matching)\n",
    "        - Many to one (k controls to every treated subject)\n",
    "        - Variable matching (k>=0 and varies for every treated subject)\n",
    "   \n",
    "\n",
    "- **Distance Measures**\n",
    "    - Mahalanobis Distance (Robust Mahalanobis Distance, rank based)\n",
    "        - If there are few important covariates, make their distance infinity if they're not equal.\n",
    "    \n",
    "    \n",
    " - [**Greedy Matching**](https://www.statisticshowto.com/greedy-algorithm-matching/)\n",
    "    - Nearest neighbor matching\n",
    "    - Specifically greedy because the smallest distance match **does not minimize total distance** between all pairs; can lead to bad matches; depends on initial list order.\n",
    "    \n",
    "- **Caliper**\n",
    "    - Maximum acceptable distance\n",
    "    - We might want to exclude treated subjects for whom there does not exist a good match.\n",
    "    - Why? Or else might violate [**positivity assumption**](https://medium.com/@EpiEllie/positivity-what-it-is-and-why-it-matters-for-data-science-d5e9c0bc1fcb) \n",
    "        - The probability of having a particular level of exposure, conditional on your covariates, is greater than 0 and less than 1, for all strata and exposure levels of interest.\n",
    "        - If you want to compare two types of exposures, then you have to have people in your data who are able to & sometimes will receive any or all of the relevant exposure values!\n",
    "\n",
    "\n",
    "- **Optimal Matching**\n",
    "    - Minimizes global distance measure\n",
    "    - Computationally demanding (Assignment optimization problem)\n",
    "        - Sparse optimal matching for larger datasets, by matching within **blocks**, where fine balance is prioritized and is achievable.\n",
    "\n",
    "\n",
    "- **Variables for Matching**\n",
    "    - Could be based directly on confounders/covariates, or\n",
    "    - **Propensity Scores from the model**\n",
    "        - Probability of receiving treatment\n",
    "        - Acts as a singular balancing score\n",
    "        - Conditioning on the estimated propensity score, is conditioning on an **allocation probability**\n",
    "        - Logit (log-odds) of the propensity score is practically used.\n",
    "\n",
    "\n",
    "- **Balance Measures**\n",
    "    - Hypothesis tests of means\n",
    "    - Standardized mean differences (mean differences divided by pooled standard deviation)\n",
    "        - <0.1 good balance, >0.2 imbalance\n",
    "\n",
    "- **Post Matching Analysis**\n",
    "    - McNemar Chi-squared test for paired data\n",
    "    - Paired t-test for continuous data\n",
    "    - Conditional Logistic Regression for paired binary outcome data\n",
    "    - Stratified Cox model for time-to-event survival outcome data (stratify baseline model based on match_id variable)\n",
    "    - Generalized estimating equations (GEE) for binary outcomes, a causal risk difference, risk ratio, odds ratio (clusters based on match_id variable)\n",
    " \n",
    " \n",
    "- [**Hidden Bias: Sensitivity Analysis**](https://documentation.sas.com/doc/en/pgmsascdc/v_022/statug/statug_psmatch_details30.htm)\n",
    "    - [**ignorability assumption**](https://www.fragilefamilieschallenge.org/causal-inference/)\n",
    "    - Odds ratio is bounded by:\n",
    "    \n",
    "        ![image](https://documentation.sas.com/api/docsets/statug/v_014/content/images/statug_psmatch_eqn_0111.svg?locale=en)\n",
    "    - If `gamma` is large before which treatment effect vanishes away, then we can be confident in the study results."
   ]
  },
  {
   "cell_type": "code",
   "execution_count": 1,
   "metadata": {},
   "outputs": [
    {
     "name": "stderr",
     "output_type": "stream",
     "text": [
      "Installing package into ‘/home/starscream/R/x86_64-pc-linux-gnu-library/4.1’\n",
      "(as ‘lib’ is unspecified)\n",
      "\n",
      "Installing package into ‘/home/starscream/R/x86_64-pc-linux-gnu-library/4.1’\n",
      "(as ‘lib’ is unspecified)\n",
      "\n",
      "Installing package into ‘/home/starscream/R/x86_64-pc-linux-gnu-library/4.1’\n",
      "(as ‘lib’ is unspecified)\n",
      "\n"
     ]
    }
   ],
   "source": [
    "#install needed libraries\n",
    "install.packages(\"tableone\")\n",
    "install.packages(\"Matching\")\n",
    "install.packages(\"MatchIt\")"
   ]
  },
  {
   "cell_type": "markdown",
   "metadata": {},
   "source": [
    "## **Load Libraries and Data**"
   ]
  },
  {
   "cell_type": "code",
   "execution_count": 2,
   "metadata": {},
   "outputs": [
    {
     "name": "stderr",
     "output_type": "stream",
     "text": [
      "Loading required package: MASS\n",
      "\n",
      "## \n",
      "##  Matching (Version 4.9-11, Build Date: 2021-10-18)\n",
      "##  See http://sekhon.berkeley.edu/matching for additional documentation.\n",
      "##  Please cite software as:\n",
      "##   Jasjeet S. Sekhon. 2011. ``Multivariate and Propensity Score Matching\n",
      "##   Software with Automated Balance Optimization: The Matching package for R.''\n",
      "##   Journal of Statistical Software, 42(7): 1-52. \n",
      "##\n",
      "\n",
      "\n"
     ]
    }
   ],
   "source": [
    "library(tableone)\n",
    "library(Matching)\n",
    "library(MatchIt)"
   ]
  },
  {
   "cell_type": "code",
   "execution_count": 3,
   "metadata": {},
   "outputs": [
    {
     "data": {
      "text/html": [
       "<table class=\"dataframe\">\n",
       "<caption>A data.frame: 6 × 11</caption>\n",
       "<thead>\n",
       "\t<tr><th></th><th scope=col>treat</th><th scope=col>age</th><th scope=col>educ</th><th scope=col>race</th><th scope=col>married</th><th scope=col>nodegree</th><th scope=col>re74</th><th scope=col>re75</th><th scope=col>re78</th><th scope=col>race_black</th><th scope=col>race_hisp</th></tr>\n",
       "\t<tr><th></th><th scope=col>&lt;int&gt;</th><th scope=col>&lt;int&gt;</th><th scope=col>&lt;int&gt;</th><th scope=col>&lt;fct&gt;</th><th scope=col>&lt;int&gt;</th><th scope=col>&lt;int&gt;</th><th scope=col>&lt;dbl&gt;</th><th scope=col>&lt;dbl&gt;</th><th scope=col>&lt;dbl&gt;</th><th scope=col>&lt;dbl&gt;</th><th scope=col>&lt;dbl&gt;</th></tr>\n",
       "</thead>\n",
       "<tbody>\n",
       "\t<tr><th scope=row>NSW1</th><td>1</td><td>37</td><td>11</td><td>black </td><td>1</td><td>1</td><td>0</td><td>0</td><td> 9930.0460</td><td>1</td><td>0</td></tr>\n",
       "\t<tr><th scope=row>NSW2</th><td>1</td><td>22</td><td> 9</td><td>hispan</td><td>0</td><td>1</td><td>0</td><td>0</td><td> 3595.8940</td><td>0</td><td>1</td></tr>\n",
       "\t<tr><th scope=row>NSW3</th><td>1</td><td>30</td><td>12</td><td>black </td><td>0</td><td>0</td><td>0</td><td>0</td><td>24909.4500</td><td>1</td><td>0</td></tr>\n",
       "\t<tr><th scope=row>NSW4</th><td>1</td><td>27</td><td>11</td><td>black </td><td>0</td><td>1</td><td>0</td><td>0</td><td> 7506.1460</td><td>1</td><td>0</td></tr>\n",
       "\t<tr><th scope=row>NSW5</th><td>1</td><td>33</td><td> 8</td><td>black </td><td>0</td><td>1</td><td>0</td><td>0</td><td>  289.7899</td><td>1</td><td>0</td></tr>\n",
       "\t<tr><th scope=row>NSW6</th><td>1</td><td>22</td><td> 9</td><td>black </td><td>0</td><td>1</td><td>0</td><td>0</td><td> 4056.4940</td><td>1</td><td>0</td></tr>\n",
       "</tbody>\n",
       "</table>\n"
      ],
      "text/latex": [
       "A data.frame: 6 × 11\n",
       "\\begin{tabular}{r|lllllllllll}\n",
       "  & treat & age & educ & race & married & nodegree & re74 & re75 & re78 & race\\_black & race\\_hisp\\\\\n",
       "  & <int> & <int> & <int> & <fct> & <int> & <int> & <dbl> & <dbl> & <dbl> & <dbl> & <dbl>\\\\\n",
       "\\hline\n",
       "\tNSW1 & 1 & 37 & 11 & black  & 1 & 1 & 0 & 0 &  9930.0460 & 1 & 0\\\\\n",
       "\tNSW2 & 1 & 22 &  9 & hispan & 0 & 1 & 0 & 0 &  3595.8940 & 0 & 1\\\\\n",
       "\tNSW3 & 1 & 30 & 12 & black  & 0 & 0 & 0 & 0 & 24909.4500 & 1 & 0\\\\\n",
       "\tNSW4 & 1 & 27 & 11 & black  & 0 & 1 & 0 & 0 &  7506.1460 & 1 & 0\\\\\n",
       "\tNSW5 & 1 & 33 &  8 & black  & 0 & 1 & 0 & 0 &   289.7899 & 1 & 0\\\\\n",
       "\tNSW6 & 1 & 22 &  9 & black  & 0 & 1 & 0 & 0 &  4056.4940 & 1 & 0\\\\\n",
       "\\end{tabular}\n"
      ],
      "text/markdown": [
       "\n",
       "A data.frame: 6 × 11\n",
       "\n",
       "| <!--/--> | treat &lt;int&gt; | age &lt;int&gt; | educ &lt;int&gt; | race &lt;fct&gt; | married &lt;int&gt; | nodegree &lt;int&gt; | re74 &lt;dbl&gt; | re75 &lt;dbl&gt; | re78 &lt;dbl&gt; | race_black &lt;dbl&gt; | race_hisp &lt;dbl&gt; |\n",
       "|---|---|---|---|---|---|---|---|---|---|---|---|\n",
       "| NSW1 | 1 | 37 | 11 | black  | 1 | 1 | 0 | 0 |  9930.0460 | 1 | 0 |\n",
       "| NSW2 | 1 | 22 |  9 | hispan | 0 | 1 | 0 | 0 |  3595.8940 | 0 | 1 |\n",
       "| NSW3 | 1 | 30 | 12 | black  | 0 | 0 | 0 | 0 | 24909.4500 | 1 | 0 |\n",
       "| NSW4 | 1 | 27 | 11 | black  | 0 | 1 | 0 | 0 |  7506.1460 | 1 | 0 |\n",
       "| NSW5 | 1 | 33 |  8 | black  | 0 | 1 | 0 | 0 |   289.7899 | 1 | 0 |\n",
       "| NSW6 | 1 | 22 |  9 | black  | 0 | 1 | 0 | 0 |  4056.4940 | 1 | 0 |\n",
       "\n"
      ],
      "text/plain": [
       "     treat age educ race   married nodegree re74 re75 re78       race_black\n",
       "NSW1 1     37  11   black  1       1        0    0     9930.0460 1         \n",
       "NSW2 1     22   9   hispan 0       1        0    0     3595.8940 0         \n",
       "NSW3 1     30  12   black  0       0        0    0    24909.4500 1         \n",
       "NSW4 1     27  11   black  0       1        0    0     7506.1460 1         \n",
       "NSW5 1     33   8   black  0       1        0    0      289.7899 1         \n",
       "NSW6 1     22   9   black  0       1        0    0     4056.4940 1         \n",
       "     race_hisp\n",
       "NSW1 0        \n",
       "NSW2 1        \n",
       "NSW3 0        \n",
       "NSW4 0        \n",
       "NSW5 0        \n",
       "NSW6 0        "
      ]
     },
     "metadata": {},
     "output_type": "display_data"
    }
   ],
   "source": [
    "data(\"lalonde\")\n",
    "lalonde$race_black = ifelse(lalonde$race=='black', 1, 0)\n",
    "lalonde$race_hisp = ifelse(lalonde$race=='hispan', 1, 0)\n",
    "head(lalonde)"
   ]
  },
  {
   "cell_type": "code",
   "execution_count": 4,
   "metadata": {},
   "outputs": [
    {
     "data": {
      "text/plain": [
       "\n",
       "Call:\n",
       "matchit(formula = treat ~ age + educ + race_black + race_hisp + \n",
       "    married + nodegree + re74 + re75, data = lalonde, method = NULL, \n",
       "    distance = \"glm\")\n",
       "\n",
       "Summary of Balance for All Data:\n",
       "           Means Treated Means Control Std. Mean Diff. Var. Ratio eCDF Mean\n",
       "distance          0.5774        0.1822          1.7941     0.9211    0.3774\n",
       "age              25.8162       28.0303         -0.3094     0.4400    0.0813\n",
       "educ             10.3459       10.2354          0.0550     0.4959    0.0347\n",
       "race_black        0.8432        0.2028          1.7615          .    0.6404\n",
       "race_hisp         0.0595        0.1422         -0.3498          .    0.0827\n",
       "married           0.1892        0.5128         -0.8263          .    0.3236\n",
       "nodegree          0.7081        0.5967          0.2450          .    0.1114\n",
       "re74           2095.5737     5619.2365         -0.7211     0.5181    0.2248\n",
       "re75           1532.0553     2466.4844         -0.2903     0.9563    0.1342\n",
       "           eCDF Max\n",
       "distance     0.6444\n",
       "age          0.1577\n",
       "educ         0.1114\n",
       "race_black   0.6404\n",
       "race_hisp    0.0827\n",
       "married      0.3236\n",
       "nodegree     0.1114\n",
       "re74         0.4470\n",
       "re75         0.2876\n",
       "\n",
       "\n",
       "Sample Sizes:\n",
       "          Control Treated\n",
       "All           429     185\n",
       "Matched       429     185\n",
       "Unmatched       0       0\n",
       "Discarded       0       0\n"
      ]
     },
     "metadata": {},
     "output_type": "display_data"
    },
    {
     "data": {
      "image/png": "[encoded data removed]",
      "text/plain": [
       "plot without title"
      ]
     },
     "metadata": {
      "image/png": {
       "height": 420,
       "width": 420
      }
     },
     "output_type": "display_data"
    }
   ],
   "source": [
    "# using match it\n",
    "# https://cran.r-project.org/web/packages/MatchIt/vignettes/MatchIt.html#fn2\n",
    "covar_table_0 <- matchit(treat ~ age + educ + race_black + race_hisp + married + \n",
    "                   nodegree + re74 + re75, data = lalonde,\n",
    "                 method = NULL, distance = \"glm\") #method = NULL, to assess balance prior to matching\n",
    "summary(covar_table_0)\n",
    "plot(summary(covar_table_0))"
   ]
  },
  {
   "cell_type": "code",
   "execution_count": 5,
   "metadata": {},
   "outputs": [
    {
     "name": "stdout",
     "output_type": "stream",
     "text": [
      "                        Stratified by treat\n",
      "                         0                 1                 SMD   \n",
      "  n                          429               185                 \n",
      "  age (mean (SD))          28.03 (10.79)     25.82 (7.16)     0.242\n",
      "  educ (mean (SD))         10.24 (2.86)      10.35 (2.01)     0.045\n",
      "  race_black (mean (SD))    0.20 (0.40)       0.84 (0.36)     1.668\n",
      "  race_hisp (mean (SD))     0.14 (0.35)       0.06 (0.24)     0.277\n",
      "  married (mean (SD))       0.51 (0.50)       0.19 (0.39)     0.719\n",
      "  nodegree (mean (SD))      0.60 (0.49)       0.71 (0.46)     0.235\n",
      "  re74 (mean (SD))       5619.24 (6788.75) 2095.57 (4886.62)  0.596\n",
      "  re75 (mean (SD))       2466.48 (3292.00) 1532.06 (3219.25)  0.287\n"
     ]
    }
   ],
   "source": [
    "#using table one\n",
    "#covariates we will use (shorter list than you would use in practice)\n",
    "covariates <-c (\"age\",\"educ\", \"race_black\", \"race_hisp\", \"married\",\"nodegree\",\"re74\",\"re75\")\n",
    "\n",
    "covar_table_1 <- CreateTableOne(vars=covariates,strata=\"treat\", data=lalonde, test=FALSE)\n",
    "# include standardized mean difference (SMD)\n",
    "print(covar_table_1,smd=TRUE)"
   ]
  },
  {
   "cell_type": "markdown",
   "metadata": {},
   "source": [
    "## **Greedy Matching**\n",
    "- **Directly on Confounders/Covariates**\n",
    "- Nearest Neighbor matching\n",
    "- Measure: Mahalanobis distance"
   ]
  },
  {
   "cell_type": "code",
   "execution_count": 7,
   "metadata": {},
   "outputs": [
    {
     "name": "stdout",
     "output_type": "stream",
     "text": [
      "                        Stratified by treat\n",
      "                         0                 1                 SMD   \n",
      "  n                          185               185                 \n",
      "  age (mean (SD))          24.21 (9.55)      25.82 (7.16)     0.190\n",
      "  educ (mean (SD))         10.23 (2.37)      10.35 (2.01)     0.052\n",
      "  race_black (mean (SD))    0.43 (0.50)       0.84 (0.36)     0.943\n",
      "  race_hisp (mean (SD))     0.06 (0.24)       0.06 (0.24)    <0.001\n",
      "  married (mean (SD))       0.20 (0.40)       0.19 (0.39)     0.027\n",
      "  nodegree (mean (SD))      0.69 (0.46)       0.71 (0.46)     0.035\n",
      "  re74 (mean (SD))       2681.77 (4754.79) 2095.57 (4886.62)  0.122\n",
      "  re75 (mean (SD))       1523.69 (2810.24) 1532.06 (3219.25)  0.003\n"
     ]
    }
   ],
   "source": [
    "greedy_match_dist <- Match(Tr=lalonde$treat,M=1,X=lalonde[covariates],replace=FALSE) #M=k, 1 indicates one-to-one matching, give a larger k for larger samples, many-to-one\n",
    "greedy_match_dist_pairs <- lalonde[unlist(greedy_match_dist[c(\"index.treated\",\"index.control\")]), ]\n",
    "\n",
    "#get table 1 for matched data with standardized differences\n",
    "greedy_match_dist_table <- CreateTableOne(vars=covariates, strata =\"treat\", \n",
    "                            data=greedy_match_dist_pairs, test = FALSE)\n",
    "print(greedy_match_dist_table, smd = TRUE)"
   ]
  },
  {
   "cell_type": "markdown",
   "metadata": {},
   "source": [
    "SMD is better but still not great with the lens of `< 0.2`"
   ]
  },
  {
   "cell_type": "markdown",
   "metadata": {},
   "source": [
    "### **Analysis**"
   ]
  },
  {
   "cell_type": "code",
   "execution_count": 8,
   "metadata": {},
   "outputs": [
    {
     "data": {
      "text/plain": [
       "\n",
       "\tOne Sample t-test\n",
       "\n",
       "data:  y_diff\n",
       "t = 1.241, df = 184, p-value = 0.2162\n",
       "alternative hypothesis: true mean is not equal to 0\n",
       "95 percent confidence interval:\n",
       " -484.9967 2129.7613\n",
       "sample estimates:\n",
       "mean of x \n",
       " 822.3823 \n"
      ]
     },
     "metadata": {},
     "output_type": "display_data"
    }
   ],
   "source": [
    "y_trt <- greedy_match_dist_pairs$re78[greedy_match_dist_pairs$treat==1]\n",
    "y_con <- greedy_match_dist_pairs$re78[greedy_match_dist_pairs$treat==0]\n",
    "y_diff <- y_trt - y_con\n",
    "\n",
    "#paired t-test\n",
    "t.test(y_diff)"
   ]
  },
  {
   "cell_type": "markdown",
   "metadata": {},
   "source": [
    "## **Propensity Scoring**"
   ]
  },
  {
   "cell_type": "code",
   "execution_count": 10,
   "metadata": {},
   "outputs": [
    {
     "data": {
      "text/plain": [
       "\n",
       "Call:\n",
       "glm(formula = \"treat ~ age + educ + race_black+ race_hisp+ married + nodegree + re74 + re75\", \n",
       "    family = binomial(), data = lalonde)\n",
       "\n",
       "Deviance Residuals: \n",
       "    Min       1Q   Median       3Q      Max  \n",
       "-1.7645  -0.4736  -0.2862   0.7508   2.7169  \n",
       "\n",
       "Coefficients:\n",
       "              Estimate Std. Error z value Pr(>|z|)    \n",
       "(Intercept) -4.729e+00  1.017e+00  -4.649 3.33e-06 ***\n",
       "age          1.578e-02  1.358e-02   1.162  0.24521    \n",
       "educ         1.613e-01  6.513e-02   2.477  0.01325 *  \n",
       "race_black   3.065e+00  2.865e-01  10.699  < 2e-16 ***\n",
       "race_hisp    9.836e-01  4.257e-01   2.311  0.02084 *  \n",
       "married     -8.321e-01  2.903e-01  -2.866  0.00415 ** \n",
       "nodegree     7.073e-01  3.377e-01   2.095  0.03620 *  \n",
       "re74        -7.178e-05  2.875e-05  -2.497  0.01253 *  \n",
       "re75         5.345e-05  4.635e-05   1.153  0.24884    \n",
       "---\n",
       "Signif. codes:  0 ‘***’ 0.001 ‘**’ 0.01 ‘*’ 0.05 ‘.’ 0.1 ‘ ’ 1\n",
       "\n",
       "(Dispersion parameter for binomial family taken to be 1)\n",
       "\n",
       "    Null deviance: 751.49  on 613  degrees of freedom\n",
       "Residual deviance: 487.84  on 605  degrees of freedom\n",
       "AIC: 505.84\n",
       "\n",
       "Number of Fisher Scoring iterations: 5\n"
      ]
     },
     "metadata": {},
     "output_type": "display_data"
    }
   ],
   "source": [
    "model_ps <-glm(\"treat ~ age + educ + race_black+ race_hisp+ married + nodegree + re74 + re75\",\n",
    "    family=binomial(),data=lalonde)\n",
    "summary(model_ps)"
   ]
  },
  {
   "cell_type": "markdown",
   "metadata": {},
   "source": [
    "## **Greedy Matching**\n",
    "- **Propensity Scores from the model**\n",
    "    - Probability of receiving treatment\n",
    "    - Acts as a singular balancing score\n",
    "    - Conditioning on the estimated propensity score, is conditioning on an **allocation probability**.\n",
    "- Nearest Neighbor matching\n",
    "- Measure: Mahalanobis distance"
   ]
  },
  {
   "cell_type": "code",
   "execution_count": 11,
   "metadata": {},
   "outputs": [
    {
     "data": {
      "text/plain": [
       "   Min. 1st Qu.  Median    Mean 3rd Qu.    Max. \n",
       "0.00908 0.04854 0.12068 0.30130 0.63872 0.85315 "
      ]
     },
     "metadata": {},
     "output_type": "display_data"
    }
   ],
   "source": [
    "scores_ps <- model_ps$fitted.values\n",
    "summary(scores_ps)"
   ]
  },
  {
   "cell_type": "code",
   "execution_count": 12,
   "metadata": {},
   "outputs": [
    {
     "name": "stdout",
     "output_type": "stream",
     "text": [
      "                        Stratified by treat\n",
      "                         0                 1                 SMD   \n",
      "  n                          185               185                 \n",
      "  age (mean (SD))          25.29 (10.65)     25.82 (7.16)     0.058\n",
      "  educ (mean (SD))         10.55 (2.71)      10.35 (2.01)     0.084\n",
      "  race_black (mean (SD))    0.47 (0.50)       0.84 (0.36)     0.852\n",
      "  race_hisp (mean (SD))     0.21 (0.41)       0.06 (0.24)     0.453\n",
      "  married (mean (SD))       0.20 (0.40)       0.19 (0.39)     0.027\n",
      "  nodegree (mean (SD))      0.65 (0.48)       0.71 (0.46)     0.127\n",
      "  re74 (mean (SD))       2351.12 (4192.62) 2095.57 (4886.62)  0.056\n",
      "  re75 (mean (SD))       1605.02 (2601.68) 1532.06 (3219.25)  0.025\n"
     ]
    }
   ],
   "source": [
    "#do greedy matching on logit(PS) using Match without a caliper\n",
    "\n",
    "logit <- function(p) {log(p)-log(1-p)}\n",
    "set.seed(931139)\n",
    "greedy_match_ps <-Match(Tr=lalonde$treat,X=scores_ps, replace=FALSE)\n",
    "# greedy_match_ps <-Match(Tr=lalonde$treat,M=1,X=logit(scores_ps), replace=FALSE,caliper=.2)\n",
    "greedy_match_ps_pairs <-lalonde[unlist(greedy_match_ps[c(\"index.treated\",\"index.control\")]), ]\n",
    "#get standardized differences\n",
    "greedy_match_ps_table <-CreateTableOne(vars=covariates, strata =\"treat\", \n",
    "                            data=greedy_match_ps_pairs, test = FALSE)\n",
    "print(greedy_match_ps_table, smd = TRUE)"
   ]
  },
  {
   "cell_type": "code",
   "execution_count": 13,
   "metadata": {},
   "outputs": [
    {
     "data": {
      "text/plain": [
       "\n",
       "\tOne Sample t-test\n",
       "\n",
       "data:  y_diff\n",
       "t = 1.356, df = 184, p-value = 0.1768\n",
       "alternative hypothesis: true mean is not equal to 0\n",
       "95 percent confidence interval:\n",
       " -421.9192 2276.5368\n",
       "sample estimates:\n",
       "mean of x \n",
       " 927.3088 \n"
      ]
     },
     "metadata": {},
     "output_type": "display_data"
    }
   ],
   "source": [
    "y_trt <- greedy_match_ps_pairs$re78[greedy_match_ps_pairs$treat==1]\n",
    "y_con <- greedy_match_ps_pairs$re78[greedy_match_ps_pairs$treat==0]\n",
    "y_diff <- y_trt - y_con\n",
    "\n",
    "#paired t-test\n",
    "t.test(y_diff)"
   ]
  },
  {
   "cell_type": "code",
   "execution_count": 22,
   "metadata": {},
   "outputs": [
    {
     "name": "stdout",
     "output_type": "stream",
     "text": [
      "                        Stratified by treat\n",
      "                         0                 1                 SMD   \n",
      "  n                          111               111                 \n",
      "  age (mean (SD))          26.27 (11.10)     26.22 (7.18)     0.006\n",
      "  educ (mean (SD))         10.37 (2.66)      10.25 (2.31)     0.047\n",
      "  race_black (mean (SD))    0.72 (0.45)       0.74 (0.44)     0.040\n",
      "  race_hisp (mean (SD))     0.11 (0.31)       0.10 (0.30)     0.029\n",
      "  married (mean (SD))       0.24 (0.43)       0.24 (0.43)    <0.001\n",
      "  nodegree (mean (SD))      0.66 (0.48)       0.65 (0.48)     0.019\n",
      "  re74 (mean (SD))       2704.56 (4759.89) 2250.49 (5746.14)  0.086\n",
      "  re75 (mean (SD))       1969.10 (3169.08) 1222.25 (3081.19)  0.239\n"
     ]
    }
   ],
   "source": [
    "#do greedy matching on logit(PS) using Match with a caliper\n",
    "\n",
    "set.seed(931139)\n",
    "greedy_match_ps <-Match(Tr=lalonde$treat,X=scores_ps, replace=FALSE,caliper=.1)\n",
    "greedy_match_ps_pairs <-lalonde[unlist(greedy_match_ps[c(\"index.treated\",\"index.control\")]), ]\n",
    "#get standardized differences\n",
    "greedy_match_ps_table <-CreateTableOne(vars=covariates, strata =\"treat\", \n",
    "                            data=greedy_match_ps_pairs, test = FALSE)\n",
    "print(greedy_match_ps_table, smd = TRUE)"
   ]
  },
  {
   "cell_type": "code",
   "execution_count": 23,
   "metadata": {},
   "outputs": [
    {
     "data": {
      "text/plain": [
       "\n",
       "\tOne Sample t-test\n",
       "\n",
       "data:  y_diff\n",
       "t = 1.4824, df = 110, p-value = 0.1411\n",
       "alternative hypothesis: true mean is not equal to 0\n",
       "95 percent confidence interval:\n",
       " -420.0273 2913.6398\n",
       "sample estimates:\n",
       "mean of x \n",
       " 1246.806 \n"
      ]
     },
     "metadata": {},
     "output_type": "display_data"
    }
   ],
   "source": [
    "y_trt <- greedy_match_ps_pairs$re78[greedy_match_ps_pairs$treat==1]\n",
    "y_con <- greedy_match_ps_pairs$re78[greedy_match_ps_pairs$treat==0]\n",
    "y_diff <- y_trt - y_con\n",
    "\n",
    "#paired t-test\n",
    "t.test(y_diff)"
   ]
  },
  {
   "cell_type": "markdown",
   "metadata": {},
   "source": [
    " - Notice that the total matched pairs has now reduced from **184** to **110** due to the caliper value 0.1"
   ]
  }
 ],
 "metadata": {
  "kernelspec": {
   "display_name": "R",
   "language": "R",
   "name": "ir"
  },
  "language_info": {
   "codemirror_mode": "r",
   "file_extension": ".r",
   "mimetype": "text/x-r-source",
   "name": "R",
   "pygments_lexer": "r",
   "version": "4.1.3"
  }
 },
 "nbformat": 4,
 "nbformat_minor": 4
}
