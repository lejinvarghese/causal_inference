{
 "cells": [
  {
   "cell_type": "markdown",
   "metadata": {},
   "source": [
    "# **Inverse Probability of Treatment Weighting [IPTW]**\n",
    "\n",
    "**Notes:**\n",
    "\n",
    "- Based on the idea that instead of **matching**, we could use all of the data, but **down-weight** some and **up-weight** others.\n",
    "- Weighting by the **inverse probability of treatment received**.\n",
    "- [Horvitz-Thompson Estimator](https://en.wikipedia.org/wiki/Horvitz%E2%80%93Thompson_estimator) is commonly used.\n",
    "- Weighted means and variances are used for covariate balance computation.\n",
    "- Large weights can be common, needs to do trimming, truncating or bootstrapping to manage outliers.\n",
    "    \n",
    "\n",
    "- [**Marginal Structural Models**](https://journals.lww.com/epidem/fulltext/2000/09000/marginal_structural_models_and_causal_inference_in.11.aspx#:~:text=Marginal%20structural%20models%20(MSMs%29%20are,simultaneously%20confounders%20and%20intermediate%20variables.)\n",
    "     - Can be used more generally to estimate Causal Effect Parameters from models\n",
    "     - **Marginal**: model that is not conditional on the confounders (population average)\n",
    "     - **Structural**: model for potential outcomes, not observed outcomes\n",
    " \n",
    " \n",
    "- [**Doubly Robust Estimators**](https://matheusfacure.github.io/python-causality-handbook/12-Doubly-Robust-Estimation.html)\n",
    "    - Typically used as an ensemble of Outcome Regression and Propensity Score Model.\n",
    "    - Unbiased even if either one of the PSM or Outcome Regression Model is incorrect.\n",
    "    - Also called Augmented IPTW (AIPTW) estimators, and is more efficient than regular IPTW estimators.\n",
    "\n",
    "\n",
    "- [IPTW vs PSM](https://stats.stackexchange.com/questions/424223/advantages-and-disadvantages-of-iptw-vs-propensity-score-matching)"
   ]
  },
  {
   "cell_type": "code",
   "execution_count": 1,
   "metadata": {},
   "outputs": [
    {
     "name": "stderr",
     "output_type": "stream",
     "text": [
      "Installing package into ‘/home/starscream/R/x86_64-pc-linux-gnu-library/4.1’\n",
      "(as ‘lib’ is unspecified)\n",
      "\n",
      "Installing package into ‘/home/starscream/R/x86_64-pc-linux-gnu-library/4.1’\n",
      "(as ‘lib’ is unspecified)\n",
      "\n",
      "Installing package into ‘/home/starscream/R/x86_64-pc-linux-gnu-library/4.1’\n",
      "(as ‘lib’ is unspecified)\n",
      "\n",
      "Installing package into ‘/home/starscream/R/x86_64-pc-linux-gnu-library/4.1’\n",
      "(as ‘lib’ is unspecified)\n",
      "\n",
      "Installing package into ‘/home/starscream/R/x86_64-pc-linux-gnu-library/4.1’\n",
      "(as ‘lib’ is unspecified)\n",
      "\n",
      "Installing package into ‘/home/starscream/R/x86_64-pc-linux-gnu-library/4.1’\n",
      "(as ‘lib’ is unspecified)\n",
      "\n"
     ]
    }
   ],
   "source": [
    "#install needed libraries\n",
    "install.packages(\"tableone\")\n",
    "install.packages(\"ipw\")\n",
    "install.packages(\"sandwich\")\n",
    "install.packages(\"survey\")\n",
    "install.packages(\"Matching\")\n",
    "install.packages(\"MatchIt\")"
   ]
  },
  {
   "cell_type": "markdown",
   "metadata": {},
   "source": [
    "## **Load Libraries and Data**"
   ]
  },
  {
   "cell_type": "code",
   "execution_count": 2,
   "metadata": {},
   "outputs": [
    {
     "name": "stderr",
     "output_type": "stream",
     "text": [
      "Loading required package: MASS\n",
      "\n",
      "## \n",
      "##  Matching (Version 4.9-11, Build Date: 2021-10-18)\n",
      "##  See http://sekhon.berkeley.edu/matching for additional documentation.\n",
      "##  Please cite software as:\n",
      "##   Jasjeet S. Sekhon. 2011. ``Multivariate and Propensity Score Matching\n",
      "##   Software with Automated Balance Optimization: The Matching package for R.''\n",
      "##   Journal of Statistical Software, 42(7): 1-52. \n",
      "##\n",
      "\n",
      "\n",
      "Loading required package: grid\n",
      "\n",
      "Loading required package: Matrix\n",
      "\n",
      "Loading required package: survival\n",
      "\n",
      "\n",
      "Attaching package: ‘survey’\n",
      "\n",
      "\n",
      "The following object is masked from ‘package:graphics’:\n",
      "\n",
      "    dotchart\n",
      "\n",
      "\n"
     ]
    }
   ],
   "source": [
    "library(tableone)\n",
    "library(Matching)\n",
    "library(MatchIt)\n",
    "library(ipw)\n",
    "library(survey)"
   ]
  },
  {
   "cell_type": "code",
   "execution_count": 3,
   "metadata": {},
   "outputs": [
    {
     "data": {
      "text/html": [
       "<table class=\"dataframe\">\n",
       "<caption>A data.frame: 6 × 11</caption>\n",
       "<thead>\n",
       "\t<tr><th></th><th scope=col>treat</th><th scope=col>age</th><th scope=col>educ</th><th scope=col>race</th><th scope=col>married</th><th scope=col>nodegree</th><th scope=col>re74</th><th scope=col>re75</th><th scope=col>re78</th><th scope=col>race_black</th><th scope=col>race_hisp</th></tr>\n",
       "\t<tr><th></th><th scope=col>&lt;int&gt;</th><th scope=col>&lt;int&gt;</th><th scope=col>&lt;int&gt;</th><th scope=col>&lt;fct&gt;</th><th scope=col>&lt;int&gt;</th><th scope=col>&lt;int&gt;</th><th scope=col>&lt;dbl&gt;</th><th scope=col>&lt;dbl&gt;</th><th scope=col>&lt;dbl&gt;</th><th scope=col>&lt;dbl&gt;</th><th scope=col>&lt;dbl&gt;</th></tr>\n",
       "</thead>\n",
       "<tbody>\n",
       "\t<tr><th scope=row>NSW1</th><td>1</td><td>37</td><td>11</td><td>black </td><td>1</td><td>1</td><td>0</td><td>0</td><td> 9930.0460</td><td>1</td><td>0</td></tr>\n",
       "\t<tr><th scope=row>NSW2</th><td>1</td><td>22</td><td> 9</td><td>hispan</td><td>0</td><td>1</td><td>0</td><td>0</td><td> 3595.8940</td><td>0</td><td>1</td></tr>\n",
       "\t<tr><th scope=row>NSW3</th><td>1</td><td>30</td><td>12</td><td>black </td><td>0</td><td>0</td><td>0</td><td>0</td><td>24909.4500</td><td>1</td><td>0</td></tr>\n",
       "\t<tr><th scope=row>NSW4</th><td>1</td><td>27</td><td>11</td><td>black </td><td>0</td><td>1</td><td>0</td><td>0</td><td> 7506.1460</td><td>1</td><td>0</td></tr>\n",
       "\t<tr><th scope=row>NSW5</th><td>1</td><td>33</td><td> 8</td><td>black </td><td>0</td><td>1</td><td>0</td><td>0</td><td>  289.7899</td><td>1</td><td>0</td></tr>\n",
       "\t<tr><th scope=row>NSW6</th><td>1</td><td>22</td><td> 9</td><td>black </td><td>0</td><td>1</td><td>0</td><td>0</td><td> 4056.4940</td><td>1</td><td>0</td></tr>\n",
       "</tbody>\n",
       "</table>\n"
      ],
      "text/latex": [
       "A data.frame: 6 × 11\n",
       "\\begin{tabular}{r|lllllllllll}\n",
       "  & treat & age & educ & race & married & nodegree & re74 & re75 & re78 & race\\_black & race\\_hisp\\\\\n",
       "  & <int> & <int> & <int> & <fct> & <int> & <int> & <dbl> & <dbl> & <dbl> & <dbl> & <dbl>\\\\\n",
       "\\hline\n",
       "\tNSW1 & 1 & 37 & 11 & black  & 1 & 1 & 0 & 0 &  9930.0460 & 1 & 0\\\\\n",
       "\tNSW2 & 1 & 22 &  9 & hispan & 0 & 1 & 0 & 0 &  3595.8940 & 0 & 1\\\\\n",
       "\tNSW3 & 1 & 30 & 12 & black  & 0 & 0 & 0 & 0 & 24909.4500 & 1 & 0\\\\\n",
       "\tNSW4 & 1 & 27 & 11 & black  & 0 & 1 & 0 & 0 &  7506.1460 & 1 & 0\\\\\n",
       "\tNSW5 & 1 & 33 &  8 & black  & 0 & 1 & 0 & 0 &   289.7899 & 1 & 0\\\\\n",
       "\tNSW6 & 1 & 22 &  9 & black  & 0 & 1 & 0 & 0 &  4056.4940 & 1 & 0\\\\\n",
       "\\end{tabular}\n"
      ],
      "text/markdown": [
       "\n",
       "A data.frame: 6 × 11\n",
       "\n",
       "| <!--/--> | treat &lt;int&gt; | age &lt;int&gt; | educ &lt;int&gt; | race &lt;fct&gt; | married &lt;int&gt; | nodegree &lt;int&gt; | re74 &lt;dbl&gt; | re75 &lt;dbl&gt; | re78 &lt;dbl&gt; | race_black &lt;dbl&gt; | race_hisp &lt;dbl&gt; |\n",
       "|---|---|---|---|---|---|---|---|---|---|---|---|\n",
       "| NSW1 | 1 | 37 | 11 | black  | 1 | 1 | 0 | 0 |  9930.0460 | 1 | 0 |\n",
       "| NSW2 | 1 | 22 |  9 | hispan | 0 | 1 | 0 | 0 |  3595.8940 | 0 | 1 |\n",
       "| NSW3 | 1 | 30 | 12 | black  | 0 | 0 | 0 | 0 | 24909.4500 | 1 | 0 |\n",
       "| NSW4 | 1 | 27 | 11 | black  | 0 | 1 | 0 | 0 |  7506.1460 | 1 | 0 |\n",
       "| NSW5 | 1 | 33 |  8 | black  | 0 | 1 | 0 | 0 |   289.7899 | 1 | 0 |\n",
       "| NSW6 | 1 | 22 |  9 | black  | 0 | 1 | 0 | 0 |  4056.4940 | 1 | 0 |\n",
       "\n"
      ],
      "text/plain": [
       "     treat age educ race   married nodegree re74 re75 re78       race_black\n",
       "NSW1 1     37  11   black  1       1        0    0     9930.0460 1         \n",
       "NSW2 1     22   9   hispan 0       1        0    0     3595.8940 0         \n",
       "NSW3 1     30  12   black  0       0        0    0    24909.4500 1         \n",
       "NSW4 1     27  11   black  0       1        0    0     7506.1460 1         \n",
       "NSW5 1     33   8   black  0       1        0    0      289.7899 1         \n",
       "NSW6 1     22   9   black  0       1        0    0     4056.4940 1         \n",
       "     race_hisp\n",
       "NSW1 0        \n",
       "NSW2 1        \n",
       "NSW3 0        \n",
       "NSW4 0        \n",
       "NSW5 0        \n",
       "NSW6 0        "
      ]
     },
     "metadata": {},
     "output_type": "display_data"
    }
   ],
   "source": [
    "data(\"lalonde\")\n",
    "lalonde$race_black = ifelse(lalonde$race=='black', 1, 0)\n",
    "lalonde$race_hisp = ifelse(lalonde$race=='hispan', 1, 0)\n",
    "head(lalonde)"
   ]
  },
  {
   "cell_type": "code",
   "execution_count": 4,
   "metadata": {},
   "outputs": [
    {
     "name": "stdout",
     "output_type": "stream",
     "text": [
      "                        Stratified by treat\n",
      "                         0                 1                 SMD   \n",
      "  n                          429               185                 \n",
      "  age (mean (SD))          28.03 (10.79)     25.82 (7.16)     0.242\n",
      "  educ (mean (SD))         10.24 (2.86)      10.35 (2.01)     0.045\n",
      "  race_black (mean (SD))    0.20 (0.40)       0.84 (0.36)     1.668\n",
      "  race_hisp (mean (SD))     0.14 (0.35)       0.06 (0.24)     0.277\n",
      "  married (mean (SD))       0.51 (0.50)       0.19 (0.39)     0.719\n",
      "  nodegree (mean (SD))      0.60 (0.49)       0.71 (0.46)     0.235\n",
      "  re74 (mean (SD))       5619.24 (6788.75) 2095.57 (4886.62)  0.596\n",
      "  re75 (mean (SD))       2466.48 (3292.00) 1532.06 (3219.25)  0.287\n"
     ]
    }
   ],
   "source": [
    "#using table one\n",
    "#covariates we will use (shorter list than you would use in practice)\n",
    "covariates <-c (\"age\",\"educ\", \"race_black\", \"race_hisp\", \"married\",\"nodegree\",\"re74\",\"re75\")\n",
    "covar_table_1 <- CreateTableOne(vars=covariates,strata=\"treat\", data=lalonde, test=FALSE)\n",
    "# include standardized mean difference (SMD)\n",
    "print(covar_table_1,smd=TRUE)"
   ]
  },
  {
   "cell_type": "markdown",
   "metadata": {},
   "source": [
    "## **Propensity Scoring**"
   ]
  },
  {
   "cell_type": "markdown",
   "metadata": {},
   "source": [
    "### **Using GLM**"
   ]
  },
  {
   "cell_type": "code",
   "execution_count": 6,
   "metadata": {},
   "outputs": [
    {
     "data": {
      "text/plain": [
       "\n",
       "Call:\n",
       "glm(formula = \"treat ~ age + educ + race_black+ race_hisp+ married + nodegree + re74 + re75\", \n",
       "    family = binomial(link = \"logit\"), data = lalonde)\n",
       "\n",
       "Deviance Residuals: \n",
       "    Min       1Q   Median       3Q      Max  \n",
       "-1.7645  -0.4736  -0.2862   0.7508   2.7169  \n",
       "\n",
       "Coefficients:\n",
       "              Estimate Std. Error z value Pr(>|z|)    \n",
       "(Intercept) -4.729e+00  1.017e+00  -4.649 3.33e-06 ***\n",
       "age          1.578e-02  1.358e-02   1.162  0.24521    \n",
       "educ         1.613e-01  6.513e-02   2.477  0.01325 *  \n",
       "race_black   3.065e+00  2.865e-01  10.699  < 2e-16 ***\n",
       "race_hisp    9.836e-01  4.257e-01   2.311  0.02084 *  \n",
       "married     -8.321e-01  2.903e-01  -2.866  0.00415 ** \n",
       "nodegree     7.073e-01  3.377e-01   2.095  0.03620 *  \n",
       "re74        -7.178e-05  2.875e-05  -2.497  0.01253 *  \n",
       "re75         5.345e-05  4.635e-05   1.153  0.24884    \n",
       "---\n",
       "Signif. codes:  0 ‘***’ 0.001 ‘**’ 0.01 ‘*’ 0.05 ‘.’ 0.1 ‘ ’ 1\n",
       "\n",
       "(Dispersion parameter for binomial family taken to be 1)\n",
       "\n",
       "    Null deviance: 751.49  on 613  degrees of freedom\n",
       "Residual deviance: 487.84  on 605  degrees of freedom\n",
       "AIC: 505.84\n",
       "\n",
       "Number of Fisher Scoring iterations: 5\n"
      ]
     },
     "metadata": {},
     "output_type": "display_data"
    }
   ],
   "source": [
    "model_ps <-glm(\"treat ~ age + educ + race_black+ race_hisp+ married + nodegree + re74 + re75\",\n",
    "    family=binomial(link =\"logit\"), data=lalonde)\n",
    "summary(model_ps)"
   ]
  },
  {
   "cell_type": "code",
   "execution_count": 7,
   "metadata": {},
   "outputs": [
    {
     "data": {
      "text/plain": [
       "   Min. 1st Qu.  Median    Mean 3rd Qu.    Max. \n",
       "0.00908 0.04854 0.12068 0.30130 0.63872 0.85315 "
      ]
     },
     "metadata": {},
     "output_type": "display_data"
    },
    {
     "data": {
      "text/plain": [
       "   Min. 1st Qu.  Median    Mean 3rd Qu.    Max. \n",
       "  1.009   1.052   1.170   1.905   1.623  40.077 "
      ]
     },
     "metadata": {},
     "output_type": "display_data"
    }
   ],
   "source": [
    "scores_ps <- predict(model_ps, type = \"response\")\n",
    "summary(scores_ps)\n",
    "#create weights\n",
    "weights <- ifelse(lalonde$treat==1,1/(scores_ps),1/(1-scores_ps))\n",
    "summary(weights)"
   ]
  },
  {
   "cell_type": "code",
   "execution_count": 8,
   "metadata": {},
   "outputs": [
    {
     "name": "stdout",
     "output_type": "stream",
     "text": [
      "                        Stratified by treat\n",
      "                         0                 1                 SMD   \n",
      "  n                       616.00            553.63                 \n",
      "  age (mean (SD))          27.10 (10.80)     25.57 (6.53)     0.172\n",
      "  educ (mean (SD))         10.29 (2.74)      10.61 (2.05)     0.132\n",
      "  race_black (mean (SD))    0.40 (0.49)       0.45 (0.50)     0.101\n",
      "  race_hisp (mean (SD))     0.12 (0.32)       0.12 (0.33)     0.014\n",
      "  married (mean (SD))       0.41 (0.49)       0.31 (0.47)     0.197\n",
      "  nodegree (mean (SD))      0.62 (0.48)       0.57 (0.50)     0.112\n",
      "  re74 (mean (SD))       4552.74 (6337.09) 2932.18 (5709.42)  0.269\n",
      "  re75 (mean (SD))       2172.04 (3160.14) 1658.07 (3072.89)  0.165\n"
     ]
    }
   ],
   "source": [
    "#apply weights to data\n",
    "data_weighted <- svydesign(ids = ~ 1, data = lalonde, weights = ~ weights)\n",
    "\n",
    "#weighted table 1\n",
    "table_weighted <- svyCreateTableOne(vars = covariates, strata = \"treat\", \n",
    "                                 data = data_weighted, test = FALSE)\n",
    "## Show table with SMD\n",
    "print(table_weighted, smd = TRUE)"
   ]
  },
  {
   "cell_type": "code",
   "execution_count": 12,
   "metadata": {},
   "outputs": [
    {
     "data": {
      "text/html": [
       "10.6063530175797"
      ],
      "text/latex": [
       "10.6063530175797"
      ],
      "text/markdown": [
       "10.6063530175797"
      ],
      "text/plain": [
       "[1] 10.60635"
      ]
     },
     "metadata": {},
     "output_type": "display_data"
    }
   ],
   "source": [
    "#to get a weighted mean for a single covariate directly:\n",
    "mean(weights[lalonde$treat==1]*lalonde$educ[lalonde$treat==1])/(mean(weights[lalonde$treat==1]))"
   ]
  },
  {
   "cell_type": "markdown",
   "metadata": {},
   "source": [
    "### **IPTW**"
   ]
  },
  {
   "cell_type": "markdown",
   "metadata": {},
   "source": [
    "#### **Estimate Inverse Probability of Treatment Weights**"
   ]
  },
  {
   "cell_type": "code",
   "execution_count": 13,
   "metadata": {},
   "outputs": [
    {
     "data": {
      "text/plain": [
       "   Min. 1st Qu.  Median    Mean 3rd Qu.    Max. \n",
       "  1.009   1.052   1.170   1.905   1.623  40.077 "
      ]
     },
     "metadata": {},
     "output_type": "display_data"
    },
    {
     "data": {
      "image/png": "[encoded data removed]",
      "text/plain": [
       "Plot with title “weights”"
      ]
     },
     "metadata": {
      "image/png": {
       "height": 420,
       "width": 420
      }
     },
     "output_type": "display_data"
    }
   ],
   "source": [
    "#first fit propensity score model to get weights\n",
    "model_ps_ipw <- ipwpoint(exposure = treat, family = \"binomial\", link =\"logit\",\n",
    "          denominator= ~ age + educ + race_black+ race_hisp+ married + nodegree + re74 + re75, data=lalonde)\n",
    "#numeric summary of weights\n",
    "summary(model_ps_ipw$ipw.weights)\n",
    "#plot of weights\n",
    "ipwplot(weights = model_ps_ipw$ipw.weights, logscale = FALSE,\n",
    "         main = \"weights\", xlim = c(0, 22))"
   ]
  },
  {
   "cell_type": "markdown",
   "metadata": {},
   "source": [
    "#### **Fit a Marginal Structural Model**"
   ]
  },
  {
   "cell_type": "code",
   "execution_count": 16,
   "metadata": {},
   "outputs": [
    {
     "data": {
      "text/html": [
       "<style>\n",
       ".dl-inline {width: auto; margin:0; padding: 0}\n",
       ".dl-inline>dt, .dl-inline>dd {float: none; width: auto; display: inline-block}\n",
       ".dl-inline>dt::after {content: \":\\0020\"; padding-right: .5ex}\n",
       ".dl-inline>dt:not(:first-of-type) {padding-left: .5ex}\n",
       "</style><dl class=dl-inline><dt>(Intercept)</dt><dd>6422.83896163939</dd><dt>treat</dt><dd>224.676308271435</dd></dl>\n"
      ],
      "text/latex": [
       "\\begin{description*}\n",
       "\\item[(Intercept)] 6422.83896163939\n",
       "\\item[treat] 224.676308271435\n",
       "\\end{description*}\n"
      ],
      "text/markdown": [
       "(Intercept)\n",
       ":   6422.83896163939treat\n",
       ":   224.676308271435\n",
       "\n"
      ],
      "text/plain": [
       "(Intercept)       treat \n",
       "  6422.8390    224.6763 "
      ]
     },
     "metadata": {},
     "output_type": "display_data"
    },
    {
     "data": {
      "text/html": [
       "<table class=\"dataframe\">\n",
       "<caption>A matrix: 2 × 2 of type dbl</caption>\n",
       "<thead>\n",
       "\t<tr><th></th><th scope=col>2.5 %</th><th scope=col>97.5 %</th></tr>\n",
       "</thead>\n",
       "<tbody>\n",
       "\t<tr><th scope=row>(Intercept)</th><td> 5705.529</td><td>7140.149</td></tr>\n",
       "\t<tr><th scope=row>treat</th><td>-1562.856</td><td>2012.208</td></tr>\n",
       "</tbody>\n",
       "</table>\n"
      ],
      "text/latex": [
       "A matrix: 2 × 2 of type dbl\n",
       "\\begin{tabular}{r|ll}\n",
       "  & 2.5 \\% & 97.5 \\%\\\\\n",
       "\\hline\n",
       "\t(Intercept) &  5705.529 & 7140.149\\\\\n",
       "\ttreat & -1562.856 & 2012.208\\\\\n",
       "\\end{tabular}\n"
      ],
      "text/markdown": [
       "\n",
       "A matrix: 2 × 2 of type dbl\n",
       "\n",
       "| <!--/--> | 2.5 % | 97.5 % |\n",
       "|---|---|---|\n",
       "| (Intercept) |  5705.529 | 7140.149 |\n",
       "| treat | -1562.856 | 2012.208 |\n",
       "\n"
      ],
      "text/plain": [
       "            2.5 %     97.5 %  \n",
       "(Intercept)  5705.529 7140.149\n",
       "treat       -1562.856 2012.208"
      ]
     },
     "metadata": {},
     "output_type": "display_data"
    }
   ],
   "source": [
    "lalonde$wt<-model_ps_ipw$ipw.weights\n",
    "#fit a marginal structural model (risk difference)\n",
    "msm <- (svyglm(re78 ~ treat, design = svydesign(~ 1, weights = ~wt,\n",
    "                  data = lalonde)))\n",
    "coef(msm)\n",
    "confint(msm, level = 0.95)"
   ]
  },
  {
   "cell_type": "code",
   "execution_count": 17,
   "metadata": {},
   "outputs": [
    {
     "data": {
      "text/html": [
       "<table class=\"dataframe\">\n",
       "<caption>A data.frame: 6 × 12</caption>\n",
       "<thead>\n",
       "\t<tr><th></th><th scope=col>treat</th><th scope=col>age</th><th scope=col>educ</th><th scope=col>race</th><th scope=col>married</th><th scope=col>nodegree</th><th scope=col>re74</th><th scope=col>re75</th><th scope=col>re78</th><th scope=col>race_black</th><th scope=col>race_hisp</th><th scope=col>wt</th></tr>\n",
       "\t<tr><th></th><th scope=col>&lt;int&gt;</th><th scope=col>&lt;int&gt;</th><th scope=col>&lt;int&gt;</th><th scope=col>&lt;fct&gt;</th><th scope=col>&lt;int&gt;</th><th scope=col>&lt;int&gt;</th><th scope=col>&lt;dbl&gt;</th><th scope=col>&lt;dbl&gt;</th><th scope=col>&lt;dbl&gt;</th><th scope=col>&lt;dbl&gt;</th><th scope=col>&lt;dbl&gt;</th><th scope=col>&lt;dbl&gt;</th></tr>\n",
       "</thead>\n",
       "<tbody>\n",
       "\t<tr><th scope=row>NSW1</th><td>1</td><td>37</td><td>11</td><td>black </td><td>1</td><td>1</td><td>0</td><td>0</td><td> 9930.0460</td><td>1</td><td>0</td><td>1.565509</td></tr>\n",
       "\t<tr><th scope=row>NSW2</th><td>1</td><td>22</td><td> 9</td><td>hispan</td><td>0</td><td>1</td><td>0</td><td>0</td><td> 3595.8940</td><td>0</td><td>1</td><td>4.451681</td></tr>\n",
       "\t<tr><th scope=row>NSW3</th><td>1</td><td>30</td><td>12</td><td>black </td><td>0</td><td>0</td><td>0</td><td>0</td><td>24909.4500</td><td>1</td><td>0</td><td>1.474396</td></tr>\n",
       "\t<tr><th scope=row>NSW4</th><td>1</td><td>27</td><td>11</td><td>black </td><td>0</td><td>1</td><td>0</td><td>0</td><td> 7506.1460</td><td>1</td><td>0</td><td>1.288122</td></tr>\n",
       "\t<tr><th scope=row>NSW5</th><td>1</td><td>33</td><td> 8</td><td>black </td><td>0</td><td>1</td><td>0</td><td>0</td><td>  289.7899</td><td>1</td><td>0</td><td>1.425235</td></tr>\n",
       "\t<tr><th scope=row>NSW6</th><td>1</td><td>22</td><td> 9</td><td>black </td><td>0</td><td>1</td><td>0</td><td>0</td><td> 4056.4940</td><td>1</td><td>0</td><td>1.430472</td></tr>\n",
       "</tbody>\n",
       "</table>\n"
      ],
      "text/latex": [
       "A data.frame: 6 × 12\n",
       "\\begin{tabular}{r|llllllllllll}\n",
       "  & treat & age & educ & race & married & nodegree & re74 & re75 & re78 & race\\_black & race\\_hisp & wt\\\\\n",
       "  & <int> & <int> & <int> & <fct> & <int> & <int> & <dbl> & <dbl> & <dbl> & <dbl> & <dbl> & <dbl>\\\\\n",
       "\\hline\n",
       "\tNSW1 & 1 & 37 & 11 & black  & 1 & 1 & 0 & 0 &  9930.0460 & 1 & 0 & 1.565509\\\\\n",
       "\tNSW2 & 1 & 22 &  9 & hispan & 0 & 1 & 0 & 0 &  3595.8940 & 0 & 1 & 4.451681\\\\\n",
       "\tNSW3 & 1 & 30 & 12 & black  & 0 & 0 & 0 & 0 & 24909.4500 & 1 & 0 & 1.474396\\\\\n",
       "\tNSW4 & 1 & 27 & 11 & black  & 0 & 1 & 0 & 0 &  7506.1460 & 1 & 0 & 1.288122\\\\\n",
       "\tNSW5 & 1 & 33 &  8 & black  & 0 & 1 & 0 & 0 &   289.7899 & 1 & 0 & 1.425235\\\\\n",
       "\tNSW6 & 1 & 22 &  9 & black  & 0 & 1 & 0 & 0 &  4056.4940 & 1 & 0 & 1.430472\\\\\n",
       "\\end{tabular}\n"
      ],
      "text/markdown": [
       "\n",
       "A data.frame: 6 × 12\n",
       "\n",
       "| <!--/--> | treat &lt;int&gt; | age &lt;int&gt; | educ &lt;int&gt; | race &lt;fct&gt; | married &lt;int&gt; | nodegree &lt;int&gt; | re74 &lt;dbl&gt; | re75 &lt;dbl&gt; | re78 &lt;dbl&gt; | race_black &lt;dbl&gt; | race_hisp &lt;dbl&gt; | wt &lt;dbl&gt; |\n",
       "|---|---|---|---|---|---|---|---|---|---|---|---|---|\n",
       "| NSW1 | 1 | 37 | 11 | black  | 1 | 1 | 0 | 0 |  9930.0460 | 1 | 0 | 1.565509 |\n",
       "| NSW2 | 1 | 22 |  9 | hispan | 0 | 1 | 0 | 0 |  3595.8940 | 0 | 1 | 4.451681 |\n",
       "| NSW3 | 1 | 30 | 12 | black  | 0 | 0 | 0 | 0 | 24909.4500 | 1 | 0 | 1.474396 |\n",
       "| NSW4 | 1 | 27 | 11 | black  | 0 | 1 | 0 | 0 |  7506.1460 | 1 | 0 | 1.288122 |\n",
       "| NSW5 | 1 | 33 |  8 | black  | 0 | 1 | 0 | 0 |   289.7899 | 1 | 0 | 1.425235 |\n",
       "| NSW6 | 1 | 22 |  9 | black  | 0 | 1 | 0 | 0 |  4056.4940 | 1 | 0 | 1.430472 |\n",
       "\n"
      ],
      "text/plain": [
       "     treat age educ race   married nodegree re74 re75 re78       race_black\n",
       "NSW1 1     37  11   black  1       1        0    0     9930.0460 1         \n",
       "NSW2 1     22   9   hispan 0       1        0    0     3595.8940 0         \n",
       "NSW3 1     30  12   black  0       0        0    0    24909.4500 1         \n",
       "NSW4 1     27  11   black  0       1        0    0     7506.1460 1         \n",
       "NSW5 1     33   8   black  0       1        0    0      289.7899 1         \n",
       "NSW6 1     22   9   black  0       1        0    0     4056.4940 1         \n",
       "     race_hisp wt      \n",
       "NSW1 0         1.565509\n",
       "NSW2 1         4.451681\n",
       "NSW3 0         1.474396\n",
       "NSW4 0         1.288122\n",
       "NSW5 0         1.425235\n",
       "NSW6 0         1.430472"
      ]
     },
     "metadata": {},
     "output_type": "display_data"
    }
   ],
   "source": [
    "head(lalonde)"
   ]
  },
  {
   "cell_type": "markdown",
   "metadata": {},
   "source": [
    "#### **Estimate Truncated Inverse Probability of Treatment Weights**"
   ]
  },
  {
   "cell_type": "code",
   "execution_count": 23,
   "metadata": {},
   "outputs": [
    {
     "data": {
      "text/plain": [
       "   Min. 1st Qu.  Median    Mean 3rd Qu.    Max. \n",
       "  1.020   1.052   1.170   1.589   1.623   4.040 "
      ]
     },
     "metadata": {},
     "output_type": "display_data"
    },
    {
     "data": {
      "image/png": "[encoded data removed]",
      "text/plain": [
       "Plot with title “weights”"
      ]
     },
     "metadata": {
      "image/png": {
       "height": 420,
       "width": 420
      }
     },
     "output_type": "display_data"
    }
   ],
   "source": [
    "# Truncate\n",
    "model_ps_ipw <-ipwpoint(exposure = treat, family = \"binomial\", link =\"logit\",\n",
    "          denominator= ~ age + educ + race_black+ race_hisp+ married + nodegree + re74 + re75, data=lalonde, trunc=0.05)\n",
    "#numeric summary of weights\n",
    "summary(model_ps_ipw$weights.trun)\n",
    "#plot of weights\n",
    "ipwplot(weights = model_ps_ipw$weights.trun, logscale = FALSE,\n",
    "         main = \"weights\", xlim = c(0, 22))"
   ]
  },
  {
   "cell_type": "markdown",
   "metadata": {},
   "source": [
    "#### **Fit a Marginal Structural Model**"
   ]
  },
  {
   "cell_type": "code",
   "execution_count": 24,
   "metadata": {},
   "outputs": [
    {
     "data": {
      "text/html": [
       "<style>\n",
       ".dl-inline {width: auto; margin:0; padding: 0}\n",
       ".dl-inline>dt, .dl-inline>dd {float: none; width: auto; display: inline-block}\n",
       ".dl-inline>dt::after {content: \":\\0020\"; padding-right: .5ex}\n",
       ".dl-inline>dt:not(:first-of-type) {padding-left: .5ex}\n",
       "</style><dl class=dl-inline><dt>(Intercept)</dt><dd>6432.01600720922</dd><dt>treat</dt><dd>336.968354001877</dd></dl>\n"
      ],
      "text/latex": [
       "\\begin{description*}\n",
       "\\item[(Intercept)] 6432.01600720922\n",
       "\\item[treat] 336.968354001877\n",
       "\\end{description*}\n"
      ],
      "text/markdown": [
       "(Intercept)\n",
       ":   6432.01600720922treat\n",
       ":   336.968354001877\n",
       "\n"
      ],
      "text/plain": [
       "(Intercept)       treat \n",
       "  6432.0160    336.9684 "
      ]
     },
     "metadata": {},
     "output_type": "display_data"
    },
    {
     "data": {
      "text/html": [
       "<table class=\"dataframe\">\n",
       "<caption>A matrix: 2 × 2 of type dbl</caption>\n",
       "<thead>\n",
       "\t<tr><th></th><th scope=col>2.5 %</th><th scope=col>97.5 %</th></tr>\n",
       "</thead>\n",
       "<tbody>\n",
       "\t<tr><th scope=row>(Intercept)</th><td> 5714.412</td><td>7149.620</td></tr>\n",
       "\t<tr><th scope=row>treat</th><td>-1104.334</td><td>1778.271</td></tr>\n",
       "</tbody>\n",
       "</table>\n"
      ],
      "text/latex": [
       "A matrix: 2 × 2 of type dbl\n",
       "\\begin{tabular}{r|ll}\n",
       "  & 2.5 \\% & 97.5 \\%\\\\\n",
       "\\hline\n",
       "\t(Intercept) &  5714.412 & 7149.620\\\\\n",
       "\ttreat & -1104.334 & 1778.271\\\\\n",
       "\\end{tabular}\n"
      ],
      "text/markdown": [
       "\n",
       "A matrix: 2 × 2 of type dbl\n",
       "\n",
       "| <!--/--> | 2.5 % | 97.5 % |\n",
       "|---|---|---|\n",
       "| (Intercept) |  5714.412 | 7149.620 |\n",
       "| treat | -1104.334 | 1778.271 |\n",
       "\n"
      ],
      "text/plain": [
       "            2.5 %     97.5 %  \n",
       "(Intercept)  5714.412 7149.620\n",
       "treat       -1104.334 1778.271"
      ]
     },
     "metadata": {},
     "output_type": "display_data"
    }
   ],
   "source": [
    "lalonde$wt<-model_ps_ipw$weights.trun\n",
    "#fit a marginal structural model (risk difference)\n",
    "msm <- (svyglm(re78 ~ treat, design = svydesign(~ 1, weights = ~wt,\n",
    "                  data =lalonde)))\n",
    "coef(msm)\n",
    "confint(msm, level = 0.95)"
   ]
  }
 ],
 "metadata": {
  "kernelspec": {
   "display_name": "R",
   "language": "R",
   "name": "ir"
  },
  "language_info": {
   "codemirror_mode": "r",
   "file_extension": ".r",
   "mimetype": "text/x-r-source",
   "name": "R",
   "pygments_lexer": "r",
   "version": "4.1.3"
  }
 },
 "nbformat": 4,
 "nbformat_minor": 4
}
